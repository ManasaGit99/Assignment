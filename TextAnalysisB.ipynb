{
  "nbformat": 4,
  "nbformat_minor": 0,
  "metadata": {
    "colab": {
      "provenance": [],
      "authorship_tag": "ABX9TyNr7kmxtZP5UA9/SXcgS5lN",
      "include_colab_link": true
    },
    "kernelspec": {
      "name": "python3",
      "display_name": "Python 3"
    },
    "language_info": {
      "name": "python"
    }
  },
  "cells": [
    {
      "cell_type": "markdown",
      "metadata": {
        "id": "view-in-github",
        "colab_type": "text"
      },
      "source": [
        "<a href=\"https://colab.research.google.com/github/ManasaGit99/Assignment/blob/main/TextAnalysisB.ipynb\" target=\"_parent\"><img src=\"https://colab.research.google.com/assets/colab-badge.svg\" alt=\"Open In Colab\"/></a>"
      ]
    },
    {
      "cell_type": "code",
      "execution_count": 1,
      "metadata": {
        "id": "Uz4kUCMiQcMA"
      },
      "outputs": [],
      "source": [
        "import pandas as pd\n",
        "import os\n",
        "import re\n",
        "from textblob import TextBlob\n",
        "from nltk.tokenize import word_tokenize, sent_tokenize\n",
        "from nltk.corpus import cmudict\n",
        "import nltk\n",
        "import requests\n",
        "from bs4 import BeautifulSoup"
      ]
    },
    {
      "cell_type": "code",
      "source": [
        "# Download nltk data\n",
        "nltk.download('punkt')\n",
        "nltk.download('cmudict')"
      ],
      "metadata": {
        "colab": {
          "base_uri": "https://localhost:8080/"
        },
        "id": "6lC_hcmUQ3v0",
        "outputId": "8911784e-9a09-4162-b835-e44136bcd481"
      },
      "execution_count": 2,
      "outputs": [
        {
          "output_type": "stream",
          "name": "stderr",
          "text": [
            "[nltk_data] Downloading package punkt to /root/nltk_data...\n",
            "[nltk_data]   Unzipping tokenizers/punkt.zip.\n",
            "[nltk_data] Downloading package cmudict to /root/nltk_data...\n",
            "[nltk_data]   Unzipping corpora/cmudict.zip.\n"
          ]
        },
        {
          "output_type": "execute_result",
          "data": {
            "text/plain": [
              "True"
            ]
          },
          "metadata": {},
          "execution_count": 2
        }
      ]
    },
    {
      "cell_type": "code",
      "source": [
        "# Read the input file\n",
        "input_file = 'Input.xlsx'\n",
        "df_input = pd.read_excel(input_file)\n",
        "\n",
        "# Directory to save the articles\n",
        "articles_dir = 'articles'\n",
        "os.makedirs(articles_dir, exist_ok=True)\n",
        "\n",
        "for index, row in df_input.iterrows():\n",
        "    url_id = row['URL_ID']\n",
        "    url = row['URL']\n",
        "    response = requests.get(url)\n",
        "    soup = BeautifulSoup(response.content, 'html.parser')\n",
        "\n",
        "    # Extract the title (example: assuming <h1> contains the title)\n",
        "    title = soup.find('h1').get_text()\n",
        "\n",
        "    # Extract the article text (example: assuming <p> tags contain the paragraphs)\n",
        "    paragraphs = soup.find_all('p')\n",
        "    article_text = '\\n'.join([p.get_text() for p in paragraphs])\n",
        "\n",
        "    # Save the article to a text file\n",
        "    file_path = os.path.join(articles_dir, f'{url_id}.txt')\n",
        "    with open(file_path, 'w', encoding='utf-8') as file:\n",
        "        file.write(title + '\\n')\n",
        "        file.write(article_text)\n",
        "\n",
        "    print(f\"Saved article {url_id} from {url}\")\n",
        "\n",
        "print(\"All articles have been saved.\")"
      ],
      "metadata": {
        "colab": {
          "base_uri": "https://localhost:8080/"
        },
        "id": "f4dPbxyHMH21",
        "outputId": "c58612f0-1e83-420f-d1ba-c93bb9b68d05"
      },
      "execution_count": 9,
      "outputs": [
        {
          "output_type": "stream",
          "name": "stdout",
          "text": [
            "Saved article bctech2011 from https://insights.blackcoffer.com/ml-and-ai-based-insurance-premium-model-to-predict-premium-to-be-charged-by-the-insurance-company/\n",
            "Saved article bctech2012 from https://insights.blackcoffer.com/streamlined-integration-interactive-brokers-api-with-python-for-desktop-trading-application/\n",
            "Saved article bctech2013 from https://insights.blackcoffer.com/efficient-data-integration-and-user-friendly-interface-development-navigating-challenges-in-web-application-deployment/\n",
            "Saved article bctech2014 from https://insights.blackcoffer.com/effective-management-of-social-media-data-extraction-strategies-for-authentication-security-and-reliability/\n",
            "Saved article bctech2015 from https://insights.blackcoffer.com/streamlined-trading-operations-interface-for-metatrader-4-empowering-efficient-management-and-monitoring/\n",
            "Saved article bctech2016 from https://insights.blackcoffer.com/efficient-aws-infrastructure-setup-and-management-addressing-security-scalability-and-compliance/\n",
            "Saved article bctech2017 from https://insights.blackcoffer.com/streamlined-equity-waterfall-calculation-and-deal-management-system/\n",
            "Saved article bctech2018 from https://insights.blackcoffer.com/automated-orthopedic-case-report-generation-harnessing-web-scraping-and-ai-integration/\n",
            "Saved article bctech2019 from https://insights.blackcoffer.com/streamlining-time-calculation-in-warehouse-management-leveraging-shiphero-api-and-google-bigquery-integration/\n",
            "Saved article bctech2020 from https://insights.blackcoffer.com/efficient-database-design-and-management-streamlining-access-and-integration-for-partner-entity-management/\n",
            "Saved article bctech2021 from https://insights.blackcoffer.com/automated-campaign-management-system-a-comprehensive-solution-with-linkedin-and-email-integration/\n",
            "Saved article bctech2022 from https://insights.blackcoffer.com/ai-driven-data-analysis-ai-tool-using-langchain-for-a-leading-real-estate-and-financing-firm-worldwide/\n",
            "Saved article bctech2023 from https://insights.blackcoffer.com/grafana-dashboard-to-visualize-and-analyze-sensors-data/\n",
            "Saved article bctech2024 from https://insights.blackcoffer.com/mvp-for-a-software-that-analyses-content-from-audio-pharma-based/\n",
            "Saved article bctech2025 from https://insights.blackcoffer.com/data-engineering-and-management-tool-airbyte-with-custom-data-connectors-to-manage-crm-database/\n",
            "Saved article bctech2026 from https://insights.blackcoffer.com/text-summarizing-tool-to-scrape-and-summarize-pubmed-medical-papers/\n",
            "Saved article bctech2027 from https://insights.blackcoffer.com/7up7down-10updown-snakes-and-ladder-games-built-using-oops/\n",
            "Saved article bctech2028 from https://insights.blackcoffer.com/data-studio-dashboard-with-a-data-pipeline-tool-synced-with-podio-using-custom-webhooks-and-google-cloud-function/\n",
            "Saved article bctech2029 from https://insights.blackcoffer.com/end-to-end-tool-to-optimize-routing-and-planning-of-field-engineers-using-googles-cvrp-tw-algorithm/\n",
            "Saved article bctech2030 from https://insights.blackcoffer.com/end-to-end-tool-to-predict-biofuel-prices-using-ieso-data/\n",
            "Saved article bctech2031 from https://insights.blackcoffer.com/etl-discovery-tool-using-llma-langchain-openai/\n",
            "Saved article bctech2032 from https://insights.blackcoffer.com/gpt-ocr-api/\n",
            "Saved article bctech2033 from https://insights.blackcoffer.com/dockerize-the-aws-lambda-for-serverless-architecture/\n",
            "Saved article bctech2034 from https://insights.blackcoffer.com/design-and-develop-a-product-recommendation-engine-based-on-the-features-of-products/\n",
            "Saved article bctech2035 from https://insights.blackcoffer.com/database-discovery-tool-using-openai/\n",
            "Saved article bctech2036 from https://insights.blackcoffer.com/automate-the-data-management-process/\n",
            "Saved article bctech2037 from https://insights.blackcoffer.com/realtime-kibana-dashboard-for-a-financial-tech-firm/\n",
            "Saved article bctech2038 from https://insights.blackcoffer.com/data-management-etl-and-data-automation/\n",
            "Saved article bctech2039 from https://insights.blackcoffer.com/data-management-egeas/\n",
            "Saved article bctech2040 from https://insights.blackcoffer.com/design-and-develop-powershell-script/\n",
            "Saved article bctech2041 from https://insights.blackcoffer.com/design-and-develop-jenkins-shared-library/\n",
            "Saved article bctech2042 from https://insights.blackcoffer.com/design-and-develop-retool-app-for-wholecell-io-and-asana-data-using-their-apis/\n",
            "Saved article bctech2043 from https://insights.blackcoffer.com/design-and-develop-a-retool-app-that-will-show-stock-and-crypto-related-information-using-iex-api/\n",
            "Saved article bctech2044 from https://insights.blackcoffer.com/crm-monday-com-make-com-to-data-warehouse-to-klipfolio-dashboard/\n",
            "Saved article bctech2045 from https://insights.blackcoffer.com/ner-task-using-bert-with-data-in-xml-format/\n",
            "Saved article bctech2046 from https://insights.blackcoffer.com/qualtrics-api-integration-using-python/\n",
            "Saved article bctech2047 from https://insights.blackcoffer.com/design-and-develop-mlops-framework-for-data-centric-ai/\n",
            "Saved article bctech2048 from https://insights.blackcoffer.com/nlp-based-approach-for-data-transformation/\n",
            "Saved article bctech2049 from https://insights.blackcoffer.com/an-etl-tool-to-pull-data-from-shiphero-to-google-bigquery-data-warehouse/\n",
            "Saved article bctech2050 from https://insights.blackcoffer.com/plaid-financial-analytics-a-data-driven-dashboard-to-generate-insights/\n",
            "Saved article bctech2051 from https://insights.blackcoffer.com/recommendation-engine-for-insurance-sector-to-expand-business-in-the-rural-area/\n",
            "Saved article bctech2052 from https://insights.blackcoffer.com/data-from-crm-via-zapier-to-google-sheets-dynamic-to-powerbi/\n",
            "Saved article bctech2053 from https://insights.blackcoffer.com/data-warehouse-to-google-data-studio-looker-dashboard/\n",
            "Saved article bctech2054 from https://insights.blackcoffer.com/crm-monday-com-via-zapier-to-power-bi-dashboard/\n",
            "Saved article bctech2055 from https://insights.blackcoffer.com/monday-com-to-kpi-dashboard-to-manage-view-and-generate-insights-from-the-crm-data/\n",
            "Saved article bctech2056 from https://insights.blackcoffer.com/data-management-for-a-political-saas-application/\n",
            "Saved article bctech2057 from https://insights.blackcoffer.com/google-lsa-ads-google-local-service-ads-etl-tools-and-dashboards/\n",
            "Saved article bctech2058 from https://insights.blackcoffer.com/ad-networks-marketing-campaign-data-dashboard-in-looker-google-data-studio/\n",
            "Saved article bctech2059 from https://insights.blackcoffer.com/analytical-solution-for-a-tech-firm/\n",
            "Saved article bctech2060 from https://insights.blackcoffer.com/ai-solution-for-a-technology-information-and-internet-firm/\n",
            "Saved article bctech2061 from https://insights.blackcoffer.com/ai-and-nlp-based-solutions-to-automate-data-discovery-for-venture-capital-and-private-equity-principals/\n",
            "Saved article bctech2062 from https://insights.blackcoffer.com/an-etl-solution-for-an-internet-publishing-firm/\n",
            "Saved article bctech2063 from https://insights.blackcoffer.com/ai-based-algorithmic-trading-bot-for-forex/\n",
            "Saved article bctech2064 from https://insights.blackcoffer.com/equity-waterfalls-model-based-saas-application-for-real-estate-sector/\n",
            "Saved article bctech2065 from https://insights.blackcoffer.com/ai-solutions-for-foreign-exchange-an-automated-algo-trading-tool/\n",
            "Saved article bctech2066 from https://insights.blackcoffer.com/ai-agent-development-and-deployment-in-jina-ai/\n",
            "Saved article bctech2067 from https://insights.blackcoffer.com/golden-record-a-knowledge-graph-database-approach-to-unfold-discovery-using-neo4j/\n",
            "Saved article bctech2068 from https://insights.blackcoffer.com/advanced-ai-for-trading-automation/\n",
            "Saved article bctech2069 from https://insights.blackcoffer.com/create-a-knowledge-graph-to-provide-real-time-analytics-recommendations-and-a-single-source-of-truth/\n",
            "Saved article bctech2070 from https://insights.blackcoffer.com/advanced-ai-for-thermal-person-detection/\n",
            "Saved article bctech2071 from https://insights.blackcoffer.com/advanced-ai-for-road-cam-threat-detection/\n",
            "Saved article bctech2072 from https://insights.blackcoffer.com/advanced-ai-for-pedestrian-crossing-safety/\n",
            "Saved article bctech2073 from https://insights.blackcoffer.com/handgun-detection-using-yolo/\n",
            "Saved article bctech2074 from https://insights.blackcoffer.com/using-graph-technology-to-create-single-customer-view/\n",
            "Saved article bctech2075 from https://insights.blackcoffer.com/car-detection-in-satellite-images/\n",
            "Saved article bctech2077 from https://insights.blackcoffer.com/connecting-mongodb-database-to-power-bi-dashboard-dashboard-automation/\n",
            "Saved article bctech2078 from https://insights.blackcoffer.com/data-transformation/\n",
            "Saved article bctech2079 from https://insights.blackcoffer.com/e-commerce-store-analysis-purchase-behavior-ad-spend-conversion-traffic-etc/\n",
            "Saved article bctech2080 from https://insights.blackcoffer.com/kpi-dashboard-for-accountants/\n",
            "Saved article bctech2081 from https://insights.blackcoffer.com/return-on-advertising-spend-dashboard-marketing-automation-and-analytics-using-etl-and-dashboard/\n",
            "Saved article bctech2082 from https://insights.blackcoffer.com/ranking-customer-behaviours-for-business-strategy/\n",
            "Saved article bctech2083 from https://insights.blackcoffer.com/algorithmic-trading-for-multiple-commodities-markets-like-forex-metals-energy-etc/\n",
            "Saved article bctech2084 from https://insights.blackcoffer.com/trading-bot-for-forex/\n",
            "Saved article bctech2085 from https://insights.blackcoffer.com/python-model-for-the-analysis-of-sector-specific-stock-etfs-for-investment-purposes%ef%bf%bc/\n",
            "Saved article bctech2086 from https://insights.blackcoffer.com/medical-classification/\n",
            "Saved article bctech2087 from https://insights.blackcoffer.com/design-develop-bert-question-answering-model-explanations-with-visualization/\n",
            "Saved article bctech2088 from https://insights.blackcoffer.com/design-and-develop-solution-to-anomaly-detection-classification-problems/\n",
            "Saved article bctech2089 from https://insights.blackcoffer.com/an-etl-solution-for-currency-data-to-google-big-query/\n",
            "Saved article bctech2090 from https://insights.blackcoffer.com/etl-and-mlops-infrastructure-for-blockchain-analytics/\n",
            "Saved article bctech2091 from https://insights.blackcoffer.com/an-agent-based-model-of-a-virtual-power-plant-vpp/\n",
            "Saved article bctech2092 from https://insights.blackcoffer.com/transform-api-into-sdk-library-and-widget/\n",
            "Saved article bctech2093 from https://insights.blackcoffer.com/integration-of-a-product-to-a-cloud-based-crm-platform/\n",
            "Saved article bctech2094 from https://insights.blackcoffer.com/a-web-based-dashboard-for-the-filtered-data-retrieval-of-land-records/\n",
            "Saved article bctech2095 from https://insights.blackcoffer.com/integration-of-video-conferencing-data-to-the-existing-web-app/\n",
            "Saved article bctech2096 from https://insights.blackcoffer.com/design-develop-an-app-in-retool-which-shows-the-progress-of-the-added-video/\n",
            "Saved article bctech2097 from https://insights.blackcoffer.com/auvik-connectwise-integration-in-grafana/\n",
            "Saved article bctech2098 from https://insights.blackcoffer.com/data-integration-and-big-data-performance-using-elk-stack/\n",
            "Saved article bctech2099 from https://insights.blackcoffer.com/web-data-connector/\n",
            "Saved article bctech2100 from https://insights.blackcoffer.com/an-app-for-updating-the-email-id-of-the-user-and-stripe-refund-tool-using-retool/\n",
            "Saved article bctech2101 from https://insights.blackcoffer.com/an-ai-ml-based-web-application-that-detects-the-correctness-of-text-in-a-given-video/\n",
            "Saved article bctech2102 from https://insights.blackcoffer.com/website-tracking-and-insights-using-google-analytics-google-tag-manager/\n",
            "Saved article bctech2103 from https://insights.blackcoffer.com/dashboard-to-track-the-analytics-of-the-website-using-google-analytics-and-google-tag-manager/\n",
            "Saved article bctech2104 from https://insights.blackcoffer.com/power-bi-dashboard-on-operations-transactions-and-marketing-embedding-the-dashboard-to-web-app/\n",
            "Saved article bctech2105 from https://insights.blackcoffer.com/nft-data-automation-looksrare-and-etl-tool/\n",
            "Saved article bctech2106 from https://insights.blackcoffer.com/optimize-the-data-scraper-program-to-easily-accommodate-large-files-and-solve-oom-errors/\n",
            "Saved article bctech2107 from https://insights.blackcoffer.com/making-a-robust-way-to-sync-data-from-airtables-to-mongodb-using-python-etl-solution/\n",
            "Saved article bctech2108 from https://insights.blackcoffer.com/incident-duration-prediction-infrastructure-and-real-estate/\n",
            "Saved article bctech2109 from https://insights.blackcoffer.com/statistical-data-analysis-of-reinforced-concrete/\n",
            "Saved article bctech2110 from https://insights.blackcoffer.com/database-normalization-segmentation-with-google-data-studio-dashboard-insights/\n",
            "Saved article bctech2111 from https://insights.blackcoffer.com/power-bi-dashboard-to-drive-insights-from-complex-data-to-generate-business-insights/\n",
            "Saved article bctech2112 from https://insights.blackcoffer.com/real-time-dashboard-to-monitor-infrastructure-activity-and-machines/\n",
            "Saved article bctech2113 from https://insights.blackcoffer.com/electric-vehicles-ev-load-management-system-to-forecast-energy-demand/\n",
            "Saved article bctech2114 from https://insights.blackcoffer.com/power-bi-data-driven-map-dashboard/\n",
            "Saved article bctech2115 from https://insights.blackcoffer.com/google-local-service-ads-lsa-leads-dashboard/\n",
            "Saved article bctech2116 from https://insights.blackcoffer.com/aws-lex-voice-and-chatbot/\n",
            "Saved article bctech2117 from https://insights.blackcoffer.com/metabridges-api-decentraland-integration/\n",
            "Saved article bctech2118 from https://insights.blackcoffer.com/microsoft-azure-chatbot-with-luis-language-understanding/\n",
            "Saved article bctech2119 from https://insights.blackcoffer.com/impact-of-news-media-and-press-on-innovation-startups-and-investments/\n",
            "Saved article bctech2120 from https://insights.blackcoffer.com/aws-quicksight-reporting-dashboard/\n",
            "Saved article bctech2121 from https://insights.blackcoffer.com/google-data-studio-dashboard-for-marketing-ads-and-traction-data/\n",
            "Saved article bctech2122 from https://insights.blackcoffer.com/gangala-in-e-commerce-big-data-etl-elt-solution-and-data-warehouse/\n",
            "Saved article bctech2123 from https://insights.blackcoffer.com/big-data-solution-to-an-online-multivendor-marketplace-ecommerce-business/\n",
            "Saved article bctech2124 from https://insights.blackcoffer.com/creating-a-custom-report-and-dashboard-using-the-data-got-from-atera-api/\n",
            "Saved article bctech2125 from https://insights.blackcoffer.com/azure-data-lake-and-power-bi-dashboard/\n",
            "Saved article bctech2126 from https://insights.blackcoffer.com/google-data-studio-pipeline-with-gcp-mysql/\n",
            "Saved article bctech2127 from https://insights.blackcoffer.com/quickbooks-dashboard-to-find-patterns-in-finance-sales-and-forecasts/\n",
            "Saved article bctech2128 from https://insights.blackcoffer.com/marketing-sales-and-financial-data-business-dashboard-wink-report/\n",
            "Saved article bctech2129 from https://insights.blackcoffer.com/react-native-apps-in-the-development-portfolio/\n",
            "Saved article bctech2130 from https://insights.blackcoffer.com/a-leading-firm-website-seo-optimization/\n",
            "Saved article bctech2131 from https://insights.blackcoffer.com/a-leading-hospitality-firm-in-the-usa-website-seo-optimization/\n",
            "Saved article bctech2132 from https://insights.blackcoffer.com/a-leading-firm-in-the-usa-website-seo-optimization/\n",
            "Saved article bctech2133 from https://insights.blackcoffer.com/a-leading-musical-instrumental-website-seo-optimization/\n",
            "Saved article bctech2134 from https://insights.blackcoffer.com/a-leading-firm-in-the-usa-seo-and-website-optimization/\n",
            "Saved article bctech2135 from https://insights.blackcoffer.com/immigration-datawarehouse-ai-based-recommendations/\n",
            "Saved article bctech2136 from https://insights.blackcoffer.com/lipsync-automation-for-celebrities-and-influencers/\n",
            "Saved article bctech2137 from https://insights.blackcoffer.com/key-audit-matters-predictive-modeling/\n",
            "Saved article bctech2138 from https://insights.blackcoffer.com/splitting-of-songs-into-its-vocals-and-instrumental/\n",
            "Saved article bctech2139 from https://insights.blackcoffer.com/ai-and-ml-technologies-to-evaluate-learning-assessments/\n",
            "Saved article bctech2140 from https://insights.blackcoffer.com/datawarehouse-and-recommendations-engine-for-airbnb/\n",
            "Saved article bctech2141 from https://insights.blackcoffer.com/real-estate-data-warehouse/\n",
            "Saved article bctech2142 from https://insights.blackcoffer.com/traction-dashboards-of-marketing-campaigns-and-posts/\n",
            "Saved article bctech2143 from https://insights.blackcoffer.com/google-local-service-ads-lsa-data-warehouse/\n",
            "Saved article bctech2144 from https://insights.blackcoffer.com/google-local-service-ads-missed-calls-and-messages-automation-tool/\n",
            "Saved article bctech2145 from https://insights.blackcoffer.com/marketing-ads-leads-call-status-data-tool-to-bigquery/\n",
            "Saved article bctech2146 from https://insights.blackcoffer.com/marketing-analytics-to-automate-leads-call-status-and-reporting/\n",
            "Saved article bctech2147 from https://insights.blackcoffer.com/callrail-analytics-leads-report-alert/\n",
            "Saved article bctech2148 from https://insights.blackcoffer.com/marketing-automation-tool-to-notify-lead-details-to-clients-over-email-and-phone/\n",
            "Saved article bctech2149 from https://insights.blackcoffer.com/data-etl-local-service-ads-leads-to-bigquery/\n",
            "Saved article bctech2150 from https://insights.blackcoffer.com/marbles-stimulation-using-python/\n",
            "Saved article bctech2151 from https://insights.blackcoffer.com/stocktwits-data-structurization/\n",
            "Saved article bctech2152 from https://insights.blackcoffer.com/sentimental-analysis-on-shareholder-letter-of-companies/\n",
            "Saved article bctech2153 from https://insights.blackcoffer.com/population-and-community-survey-of-america/\n",
            "Saved article bctech2154 from https://insights.blackcoffer.com/google-lsa-api-data-automation-and-dashboarding/\n",
            "Saved article bctech2155 from https://insights.blackcoffer.com/healthcare-data-analysis/\n",
            "Saved article bctech2156 from https://insights.blackcoffer.com/budget-sales-kpi-dashboard-using-power-bi/\n",
            "Saved article bctech2157 from https://insights.blackcoffer.com/amazon-buy-bot-an-automation-ai-tool-to-auto-checkouts/\n",
            "All articles have been saved.\n"
          ]
        }
      ]
    },
    {
      "cell_type": "code",
      "source": [
        "# Function to count syllables in a word\n",
        "d = cmudict.dict()\n",
        "def syllable_count(word):\n",
        "    return [len(list(y for y in x if y[-1].isdigit())) for x in d[word.lower()]][0] if word.lower() in d else 0\n",
        "\n",
        "# Function to count personal pronouns\n",
        "def count_personal_pronouns(text):\n",
        "    pronouns = re.findall(r'\\b(I|we|my|ours|us)\\b', text, re.I)\n",
        "    return len(pronouns)\n",
        "# Load positive and negative words\n",
        "def load_word_list(file_path):\n",
        "    with open(file_path, 'r', encoding='utf-8', errors='ignore') as file:\n",
        "        words = file.read().splitlines()\n",
        "    return set(words)"
      ],
      "metadata": {
        "id": "UNouvLF1Q8U-"
      },
      "execution_count": 10,
      "outputs": []
    },
    {
      "cell_type": "code",
      "source": [
        "positive_words = load_word_list('MasterDictionary/positive-words.txt')\n",
        "negative_words = load_word_list('MasterDictionary/negative-words.txt')"
      ],
      "metadata": {
        "id": "3Ex59zkkUjPh"
      },
      "execution_count": 11,
      "outputs": []
    },
    {
      "cell_type": "code",
      "source": [
        "# Load stop words from multiple files\n",
        "def load_stop_words(directory):\n",
        "    stop_words = set()\n",
        "    for filename in os.listdir(directory):\n",
        "        if filename.endswith('.txt'):\n",
        "            stop_words.update(load_word_list(os.path.join(directory, filename)))\n",
        "    return stop_words\n",
        "\n",
        "stop_words = load_stop_words('StopWords')"
      ],
      "metadata": {
        "id": "8PvXJywWRGpk"
      },
      "execution_count": 12,
      "outputs": []
    },
    {
      "cell_type": "code",
      "source": [
        "# Remove stop words from positive and negative words\n",
        "positive_words = positive_words - stop_words\n",
        "negative_words = negative_words - stop_words\n",
        "\n",
        "# Function to clean text by removing stop words\n",
        "def clean_text(text):\n",
        "    tokens = word_tokenize(text)\n",
        "    cleaned_tokens = [word for word in tokens if word.lower() not in stop_words and word.isalpha()]\n",
        "    return ' '.join(cleaned_tokens)\n"
      ],
      "metadata": {
        "id": "Y9RHLp5xZKro"
      },
      "execution_count": 13,
      "outputs": []
    },
    {
      "cell_type": "code",
      "source": [
        "# Read the input and output structure files\n",
        "input_file = 'Input.xlsx'\n",
        "output_file = 'Output Data Structure.xlsx'\n",
        "df_input = pd.read_excel(input_file)\n",
        "df_output_structure = pd.read_excel(output_file)\n",
        "\n",
        "# Check if input DataFrame is read correctly\n",
        "print(f\"Input DataFrame:\\n{df_input.head()}\")\n"
      ],
      "metadata": {
        "colab": {
          "base_uri": "https://localhost:8080/"
        },
        "id": "HJa0ys2Eh-S7",
        "outputId": "385d65eb-5e04-47f7-93a0-e7bba05967b5"
      },
      "execution_count": 14,
      "outputs": [
        {
          "output_type": "stream",
          "name": "stdout",
          "text": [
            "Input DataFrame:\n",
            "       URL_ID                                                URL\n",
            "0  bctech2011  https://insights.blackcoffer.com/ml-and-ai-bas...\n",
            "1  bctech2012  https://insights.blackcoffer.com/streamlined-i...\n",
            "2  bctech2013  https://insights.blackcoffer.com/efficient-dat...\n",
            "3  bctech2014  https://insights.blackcoffer.com/effective-man...\n",
            "4  bctech2015  https://insights.blackcoffer.com/streamlined-t...\n"
          ]
        }
      ]
    },
    {
      "cell_type": "code",
      "source": [
        "# Create a dataframe for output\n",
        "df_output = pd.DataFrame(columns=df_output_structure.columns)\n",
        "\n",
        "# Verify the 'articles' directory\n",
        "articles_dir = 'articles'\n",
        "if not os.path.isdir(articles_dir):\n",
        "    print(f\"The directory '{articles_dir}' does not exist. Please check the path.\")\n",
        "else:\n",
        "    print(f\"The directory '{articles_dir}' exists.\")"
      ],
      "metadata": {
        "id": "j8kUS3OsgTry",
        "colab": {
          "base_uri": "https://localhost:8080/"
        },
        "outputId": "ca9ba58e-6ca7-4a92-ab98-1ed4c08b6594"
      },
      "execution_count": 16,
      "outputs": [
        {
          "output_type": "stream",
          "name": "stdout",
          "text": [
            "The directory 'articles' exists.\n"
          ]
        }
      ]
    },
    {
      "cell_type": "code",
      "source": [
        "for index, row in df_input.iterrows():\n",
        "    url_id = row['URL_ID']\n",
        "    file_path = os.path.join(articles_dir, f'{url_id}.txt')\n",
        "\n",
        "    # Check if the article file exists\n",
        "    if not os.path.exists(file_path):\n",
        "        print(f\"File not found: {file_path}\")\n",
        "        continue\n",
        "\n",
        "    with open(file_path, 'r', encoding='utf-8') as file:\n",
        "        content = file.read()\n",
        "\n",
        "    # Separate the title and article text\n",
        "    lines = content.split('\\n')\n",
        "    title = lines[0]\n",
        "    text = ' '.join(lines[1:])\n",
        "\n",
        "    # Clean the text by removing stop words\n",
        "    cleaned_text = clean_text(text)\n",
        "\n",
        "    # Perform text analysis on the cleaned text\n",
        "    word_tokens = word_tokenize(cleaned_text)\n",
        "    sent_tokens = sent_tokenize(cleaned_text)\n",
        "\n",
        "    positive_score = sum(1 for word in word_tokens if word in positive_words)\n",
        "    negative_score = sum(1 for word in word_tokens if word in negative_words)\n",
        "    polarity_score = (positive_score - negative_score) / ((positive_score + negative_score) + 0.000001)\n",
        "    subjectivity_score = (positive_score + negative_score) / (len(word_tokens) + 0.000001)\n",
        "    avg_sentence_length = len(word_tokens) / len(sent_tokens)\n",
        "    complex_word_count = sum(1 for word in word_tokens if syllable_count(word) >= 3)\n",
        "    percentage_complex_words = complex_word_count / len(word_tokens)\n",
        "    fog_index = 0.4 * (avg_sentence_length + percentage_complex_words)\n",
        "    avg_number_words_per_sentence = len(word_tokens) / len(sent_tokens)\n",
        "    word_count = len(word_tokens)\n",
        "    syllable_per_word = sum(syllable_count(word) for word in word_tokens) / len(word_tokens)\n",
        "    personal_pronouns = count_personal_pronouns(cleaned_text)\n",
        "    avg_word_length = sum(len(word) for word in word_tokens) / len(word_tokens)\n",
        "    # Add the computed values to the output dataframe\n",
        "    new_row = {\n",
        "        'URL_ID': url_id,\n",
        "        'URL': row['URL'],\n",
        "        'POSITIVE SCORE': positive_score,\n",
        "        'NEGATIVE SCORE': negative_score,\n",
        "        'POLARITY SCORE': polarity_score,\n",
        "        'SUBJECTIVITY SCORE': subjectivity_score,\n",
        "        'AVG SENTENCE LENGTH': avg_sentence_length,\n",
        "        'PERCENTAGE OF COMPLEX WORDS': percentage_complex_words,\n",
        "        'FOG INDEX': fog_index,\n",
        "        'AVG NUMBER OF WORDS PER SENTENCE': avg_number_words_per_sentence,\n",
        "        'COMPLEX WORD COUNT': complex_word_count,\n",
        "        'WORD COUNT': word_count,\n",
        "        'SYLLABLE PER WORD': syllable_per_word,\n",
        "        'PERSONAL PRONOUNS': personal_pronouns,\n",
        "        'AVG WORD LENGTH': avg_word_length\n",
        "    }\n",
        "    df_output = pd.concat([df_output, pd.DataFrame([new_row])], ignore_index=True)"
      ],
      "metadata": {
        "colab": {
          "base_uri": "https://localhost:8080/"
        },
        "id": "tP4NMaCygKi6",
        "outputId": "1f8bf7ea-ee1d-451c-d035-35b04e488379"
      },
      "execution_count": 17,
      "outputs": [
        {
          "output_type": "stream",
          "name": "stderr",
          "text": [
            "<ipython-input-17-43f94124785b>:56: FutureWarning: The behavior of DataFrame concatenation with empty or all-NA entries is deprecated. In a future version, this will no longer exclude empty or all-NA columns when determining the result dtypes. To retain the old behavior, exclude the relevant entries before the concat operation.\n",
            "  df_output = pd.concat([df_output, pd.DataFrame([new_row])], ignore_index=True)\n"
          ]
        }
      ]
    },
    {
      "cell_type": "code",
      "source": [
        "# Save the output to an Excel file\n",
        "output_path = 'formatted_output.xlsx'\n",
        "df_output.to_excel(output_path, index=False)\n"
      ],
      "metadata": {
        "id": "pZplkuEjOPcM"
      },
      "execution_count": 18,
      "outputs": []
    },
    {
      "cell_type": "code",
      "source": [
        "from openpyxl import load_workbook"
      ],
      "metadata": {
        "id": "K6MDGIRqOc94"
      },
      "execution_count": 20,
      "outputs": []
    },
    {
      "cell_type": "code",
      "source": [
        "# Adjust column widths\n",
        "wb = load_workbook(output_path)\n",
        "ws = wb.active\n",
        "\n",
        "for col in ws.columns:\n",
        "    max_length = 0\n",
        "    column = col[0].column_letter # Get the column name\n",
        "    for cell in col:\n",
        "        try:\n",
        "            if len(str(cell.value)) > max_length:\n",
        "                max_length = len(cell.value)\n",
        "        except:\n",
        "            pass\n",
        "    adjusted_width = (max_length + 2)\n",
        "    ws.column_dimensions[column].width = adjusted_width\n",
        "\n",
        "wb.save(output_path)\n",
        "print(f\"Output saved to {output_path} with adjusted column widths.\")"
      ],
      "metadata": {
        "colab": {
          "base_uri": "https://localhost:8080/"
        },
        "id": "sIRelD3MOV1L",
        "outputId": "eedc1142-e817-4ef1-e0cd-6ca5721e3850"
      },
      "execution_count": 21,
      "outputs": [
        {
          "output_type": "stream",
          "name": "stdout",
          "text": [
            "Output saved to formatted_output.xlsx with adjusted column widths.\n"
          ]
        }
      ]
    },
    {
      "cell_type": "code",
      "source": [
        "!git config --global user.name \"ManasaGit99\"\n",
        "!git config --global user.email \"manasapotnuru094@gmail.com\""
      ],
      "metadata": {
        "id": "j0NRMKzyQR9D"
      },
      "execution_count": 25,
      "outputs": []
    },
    {
      "cell_type": "code",
      "source": [
        "!git clone https://github.com/ManasaGit99/TextAnalysis.git"
      ],
      "metadata": {
        "colab": {
          "base_uri": "https://localhost:8080/"
        },
        "id": "ZMFuL4-LQZzt",
        "outputId": "8b92898b-47af-4b80-f1a7-71e312e08965"
      },
      "execution_count": 26,
      "outputs": [
        {
          "output_type": "stream",
          "name": "stdout",
          "text": [
            "Cloning into 'TextAnalysis'...\n",
            "warning: You appear to have cloned an empty repository.\n"
          ]
        }
      ]
    },
    {
      "cell_type": "code",
      "source": [],
      "metadata": {
        "id": "ftkYYlhORE5k"
      },
      "execution_count": null,
      "outputs": []
    },
    {
      "cell_type": "code",
      "source": [],
      "metadata": {
        "id": "qf6fKc05QnFu"
      },
      "execution_count": null,
      "outputs": []
    }
  ]
}